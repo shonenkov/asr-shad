{
  "nbformat": 4,
  "nbformat_minor": 0,
  "metadata": {
    "colab": {
      "name": "eda-template.ipynb",
      "provenance": [],
      "authorship_tag": "ABX9TyOgK1djK40sNEgy6TO1sij6",
      "include_colab_link": true
    },
    "kernelspec": {
      "name": "python3",
      "display_name": "Python 3"
    }
  },
  "cells": [
    {
      "cell_type": "markdown",
      "metadata": {
        "id": "view-in-github",
        "colab_type": "text"
      },
      "source": [
        "<a href=\"https://colab.research.google.com/github/shonenkov/asr-shad/blob/feature%2Feda_template/jupyters/eda/eda_template.ipynb\" target=\"_parent\"><img src=\"https://colab.research.google.com/assets/colab-badge.svg\" alt=\"Open In Colab\"/></a>"
      ]
    },
    {
      "cell_type": "markdown",
      "metadata": {
        "id": "SmRvoyRtKU1i",
        "colab_type": "text"
      },
      "source": [
        "# Зависимости"
      ]
    },
    {
      "cell_type": "code",
      "metadata": {
        "id": "dRGrrqYuHd7A",
        "colab_type": "code",
        "colab": {
          "base_uri": "https://localhost:8080/",
          "height": 136
        },
        "outputId": "23d7ec28-80db-47f1-cac0-b1d2137ec404"
      },
      "source": [
        "!git clone https://github.com/shonenkov/asr-shad > /dev/null\n",
        "!pip install -r './asr-shad/requirements.txt' > /dev/null"
      ],
      "execution_count": 1,
      "outputs": [
        {
          "output_type": "stream",
          "text": [
            "Cloning into 'asr-shad'...\n",
            "remote: Enumerating objects: 120, done.\u001b[K\n",
            "remote: Counting objects: 100% (120/120), done.\u001b[K\n",
            "remote: Compressing objects: 100% (93/93), done.\u001b[K\n",
            "remote: Total 120 (delta 40), reused 98 (delta 20), pack-reused 0\u001b[K\n",
            "Receiving objects: 100% (120/120), 1.02 MiB | 1.36 MiB/s, done.\n",
            "Resolving deltas: 100% (40/40), done.\n"
          ],
          "name": "stdout"
        }
      ]
    },
    {
      "cell_type": "code",
      "metadata": {
        "id": "osmjTKHoHja3",
        "colab_type": "code",
        "colab": {}
      },
      "source": [
        "import sys\n",
        "\n",
        "sys.path.insert(0, './asr-shad/utils')\n",
        "\n",
        "from audio_stats import get_audio_stats"
      ],
      "execution_count": 2,
      "outputs": []
    },
    {
      "cell_type": "markdown",
      "metadata": {
        "id": "XmgkG96tI4of",
        "colab_type": "text"
      },
      "source": [
        "# Исходные данные:\n",
        "\n",
        "https://drive.google.com/drive/folders/1mNGJOSyNKs9j7ZRuI80u9XAttRY3KXos\n",
        "\n",
        "Необходимо добавить ярлык датасета к себе на диск, затем mount:\n"
      ]
    },
    {
      "cell_type": "code",
      "metadata": {
        "id": "pKUH7Xm1H_Q_",
        "colab_type": "code",
        "colab": {
          "base_uri": "https://localhost:8080/",
          "height": 122
        },
        "outputId": "b3d62c54-a3c3-4ec7-d542-2ae5459058d7"
      },
      "source": [
        "from google.colab import drive\n",
        "drive.mount('/content/drive')"
      ],
      "execution_count": 3,
      "outputs": [
        {
          "output_type": "stream",
          "text": [
            "Go to this URL in a browser: https://accounts.google.com/o/oauth2/auth?client_id=947318989803-6bn6qk8qdgf4n4g3pfee6491hc0brc4i.apps.googleusercontent.com&redirect_uri=urn%3aietf%3awg%3aoauth%3a2.0%3aoob&response_type=code&scope=email%20https%3a%2f%2fwww.googleapis.com%2fauth%2fdocs.test%20https%3a%2f%2fwww.googleapis.com%2fauth%2fdrive%20https%3a%2f%2fwww.googleapis.com%2fauth%2fdrive.photos.readonly%20https%3a%2f%2fwww.googleapis.com%2fauth%2fpeopleapi.readonly\n",
            "\n",
            "Enter your authorization code:\n",
            "··········\n",
            "Mounted at /content/drive\n"
          ],
          "name": "stdout"
        }
      ]
    },
    {
      "cell_type": "code",
      "metadata": {
        "id": "-gU3qe8-IqE1",
        "colab_type": "code",
        "colab": {
          "base_uri": "https://localhost:8080/",
          "height": 34
        },
        "outputId": "155d751f-61c3-4bdd-9b5d-bf35f96dd185"
      },
      "source": [
        "INPUT_DIR = \"/content/drive/My Drive/Sirius project. Numbers\"\n",
        "!ls \"{INPUT_DIR}\""
      ],
      "execution_count": 4,
      "outputs": [
        {
          "output_type": "stream",
          "text": [
            "numbers  numbers_sirius.ipynb\n"
          ],
          "name": "stdout"
        }
      ]
    },
    {
      "cell_type": "markdown",
      "metadata": {
        "id": "jiDDvWMmKdAP",
        "colab_type": "text"
      },
      "source": [
        "# EDA"
      ]
    },
    {
      "cell_type": "code",
      "metadata": {
        "id": "7t83Q1cQIHVB",
        "colab_type": "code",
        "colab": {}
      },
      "source": [
        ""
      ],
      "execution_count": null,
      "outputs": []
    },
    {
      "cell_type": "markdown",
      "metadata": {
        "id": "PWYGF8m4LVcR",
        "colab_type": "text"
      },
      "source": [
        "# Мой вклад"
      ]
    },
    {
      "cell_type": "code",
      "metadata": {
        "id": "bHT2TCr1IWSR",
        "colab_type": "code",
        "colab": {}
      },
      "source": [
        ""
      ],
      "execution_count": null,
      "outputs": []
    },
    {
      "cell_type": "markdown",
      "metadata": {
        "id": "GYMDPJtdKebc",
        "colab_type": "text"
      },
      "source": [
        "# Краткое описание моей модели ASR для поставленной задачи"
      ]
    },
    {
      "cell_type": "code",
      "metadata": {
        "id": "kRdOpV6KKlKy",
        "colab_type": "code",
        "colab": {}
      },
      "source": [
        ""
      ],
      "execution_count": null,
      "outputs": []
    }
  ]
}