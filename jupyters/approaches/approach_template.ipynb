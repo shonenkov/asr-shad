{
  "nbformat": 4,
  "nbformat_minor": 0,
  "metadata": {
    "colab": {
      "name": "approach_template.ipynb",
      "provenance": [],
      "authorship_tag": "ABX9TyPp1jrOcpH4DiIHXTLVHpfH",
      "include_colab_link": true
    },
    "kernelspec": {
      "name": "python3",
      "display_name": "Python 3"
    }
  },
  "cells": [
    {
      "cell_type": "markdown",
      "metadata": {
        "id": "view-in-github",
        "colab_type": "text"
      },
      "source": [
        "<a href=\"https://colab.research.google.com/github/shonenkov/asr-shad/blob/feature%2Fapproach_template/jupyters/approaches/approach_template.ipynb\" target=\"_parent\"><img src=\"https://colab.research.google.com/assets/colab-badge.svg\" alt=\"Open In Colab\"/></a>"
      ]
    },
    {
      "cell_type": "markdown",
      "metadata": {
        "id": "UrPJLQZbzHXG",
        "colab_type": "text"
      },
      "source": [
        "# Описание гипотезы \n",
        "\n",
        "(объяснение постановки задачи машинного обучения с учителем: вход --> выход)"
      ]
    },
    {
      "cell_type": "code",
      "metadata": {
        "id": "xSx0_MnfzLOO",
        "colab_type": "code",
        "colab": {}
      },
      "source": [
        ""
      ],
      "execution_count": null,
      "outputs": []
    },
    {
      "cell_type": "code",
      "metadata": {
        "id": "-LdiIqfVzgHh",
        "colab_type": "code",
        "colab": {}
      },
      "source": [
        ""
      ],
      "execution_count": null,
      "outputs": []
    },
    {
      "cell_type": "markdown",
      "metadata": {
        "id": "-aysxFHQzgTK",
        "colab_type": "text"
      },
      "source": [
        "# Реализация\n",
        "\n",
        "(код)"
      ]
    },
    {
      "cell_type": "code",
      "metadata": {
        "id": "YpnuV5Hezdo0",
        "colab_type": "code",
        "colab": {}
      },
      "source": [
        ""
      ],
      "execution_count": null,
      "outputs": []
    },
    {
      "cell_type": "code",
      "metadata": {
        "id": "gMuFrsU0zdrC",
        "colab_type": "code",
        "colab": {}
      },
      "source": [
        ""
      ],
      "execution_count": null,
      "outputs": []
    },
    {
      "cell_type": "markdown",
      "metadata": {
        "id": "ZZfsmg_uzmgT",
        "colab_type": "text"
      },
      "source": [
        "# Предикт\n",
        "\n",
        "(получение финального csv с OOF предиктом, три столбика: reference, prediction, filename - все поля текстовые)\n"
      ]
    },
    {
      "cell_type": "code",
      "metadata": {
        "id": "HnJK5RJ8zksV",
        "colab_type": "code",
        "colab": {}
      },
      "source": [
        ""
      ],
      "execution_count": null,
      "outputs": []
    },
    {
      "cell_type": "code",
      "metadata": {
        "id": "ETISDaS0zkub",
        "colab_type": "code",
        "colab": {}
      },
      "source": [
        ""
      ],
      "execution_count": null,
      "outputs": []
    },
    {
      "cell_type": "markdown",
      "metadata": {
        "id": "hVyqqaDRz7Q7",
        "colab_type": "text"
      },
      "source": [
        "# Оценка качества\n",
        "\n",
        "(подсчет целевых метрик word error rate и symbol (char) error rate)"
      ]
    },
    {
      "cell_type": "code",
      "metadata": {
        "id": "xofZpwQBzkw_",
        "colab_type": "code",
        "colab": {}
      },
      "source": [
        ""
      ],
      "execution_count": null,
      "outputs": []
    },
    {
      "cell_type": "code",
      "metadata": {
        "id": "BFOgNkH_0Jc4",
        "colab_type": "code",
        "colab": {}
      },
      "source": [
        ""
      ],
      "execution_count": null,
      "outputs": []
    },
    {
      "cell_type": "markdown",
      "metadata": {
        "id": "eb2ucqnv0TeM",
        "colab_type": "text"
      },
      "source": [
        "# Постобработка (если есть)\n",
        "\n",
        "(исправление опечаток, подсчет новых значений целевых метрик)"
      ]
    },
    {
      "cell_type": "code",
      "metadata": {
        "id": "h8anx-Ba0JfP",
        "colab_type": "code",
        "colab": {}
      },
      "source": [
        ""
      ],
      "execution_count": null,
      "outputs": []
    },
    {
      "cell_type": "code",
      "metadata": {
        "id": "TA2spH0e0pXt",
        "colab_type": "code",
        "colab": {}
      },
      "source": [
        ""
      ],
      "execution_count": null,
      "outputs": []
    },
    {
      "cell_type": "markdown",
      "metadata": {
        "id": "-D6BWfFl0qvL",
        "colab_type": "text"
      },
      "source": [
        "# Субъективная оценка\n",
        "\n",
        "(почему не сработало или сработало, дальнейшее развитие подхода)"
      ]
    },
    {
      "cell_type": "code",
      "metadata": {
        "id": "PDj_kUd-0paE",
        "colab_type": "code",
        "colab": {}
      },
      "source": [
        ""
      ],
      "execution_count": null,
      "outputs": []
    },
    {
      "cell_type": "code",
      "metadata": {
        "id": "0sTvhwe70pj-",
        "colab_type": "code",
        "colab": {}
      },
      "source": [
        ""
      ],
      "execution_count": null,
      "outputs": []
    },
    {
      "cell_type": "markdown",
      "metadata": {
        "id": "bgfNeE1l05ZF",
        "colab_type": "text"
      },
      "source": [
        "# Все, что может быть полезным для финальной презентации\n",
        "\n",
        "(графики, картинки, описания, демки, гифки, папирусы)"
      ]
    },
    {
      "cell_type": "code",
      "metadata": {
        "id": "0jkdR60W0_Mu",
        "colab_type": "code",
        "colab": {}
      },
      "source": [
        ""
      ],
      "execution_count": null,
      "outputs": []
    },
    {
      "cell_type": "code",
      "metadata": {
        "id": "IYXhNN_R1Ong",
        "colab_type": "code",
        "colab": {}
      },
      "source": [
        ""
      ],
      "execution_count": null,
      "outputs": []
    }
  ]
}