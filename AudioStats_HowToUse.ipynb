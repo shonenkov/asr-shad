{
 "cells": [
  {
   "cell_type": "code",
   "execution_count": 38,
   "metadata": {},
   "outputs": [],
   "source": [
    "import matplotlib.pyplot as plt\n",
    "\n",
    "from utils.audio_stats import get_audio_stats, get_audio_meta"
   ]
  },
  {
   "cell_type": "markdown",
   "metadata": {},
   "source": [
    "### single file"
   ]
  },
  {
   "cell_type": "code",
   "execution_count": 48,
   "metadata": {},
   "outputs": [
    {
     "data": {
      "text/plain": [
       "{'filename': '0a5ea040ea.wav',\n",
       " 'channels': 1,\n",
       " 'frames': 74285,\n",
       " 'sample_rate_hz': 24000,\n",
       " 'size_bytes': 148614,\n",
       " 'duration_s': 3.0952083333333333,\n",
       " 'bitrate': 16}"
      ]
     },
     "execution_count": 48,
     "metadata": {},
     "output_type": "execute_result"
    }
   ],
   "source": [
    "# returns dict object\n",
    "get_audio_meta('sample_data/0a5ea040ea.wav')"
   ]
  },
  {
   "cell_type": "markdown",
   "metadata": {},
   "source": [
    "### dataset"
   ]
  },
  {
   "cell_type": "code",
   "execution_count": 28,
   "metadata": {},
   "outputs": [
    {
     "name": "stdout",
     "output_type": "stream",
     "text": [
      "CPU times: user 5.83 s, sys: 1.58 s, total: 7.41 s\n",
      "Wall time: 12.4 s\n"
     ]
    },
    {
     "data": {
      "text/html": [
       "<div>\n",
       "<style scoped>\n",
       "    .dataframe tbody tr th:only-of-type {\n",
       "        vertical-align: middle;\n",
       "    }\n",
       "\n",
       "    .dataframe tbody tr th {\n",
       "        vertical-align: top;\n",
       "    }\n",
       "\n",
       "    .dataframe thead th {\n",
       "        text-align: right;\n",
       "    }\n",
       "</style>\n",
       "<table border=\"1\" class=\"dataframe\">\n",
       "  <thead>\n",
       "    <tr style=\"text-align: right;\">\n",
       "      <th></th>\n",
       "      <th>filename</th>\n",
       "      <th>channels</th>\n",
       "      <th>frames</th>\n",
       "      <th>sample_rate_hz</th>\n",
       "      <th>size_bytes</th>\n",
       "      <th>duration_s</th>\n",
       "      <th>bitrate</th>\n",
       "    </tr>\n",
       "  </thead>\n",
       "  <tbody>\n",
       "    <tr>\n",
       "      <th>0</th>\n",
       "      <td>c9f135a051.wav</td>\n",
       "      <td>1</td>\n",
       "      <td>62074</td>\n",
       "      <td>24000</td>\n",
       "      <td>124192</td>\n",
       "      <td>2.586417</td>\n",
       "      <td>16</td>\n",
       "    </tr>\n",
       "    <tr>\n",
       "      <th>1</th>\n",
       "      <td>ba12ffc49a.wav</td>\n",
       "      <td>1</td>\n",
       "      <td>70800</td>\n",
       "      <td>24000</td>\n",
       "      <td>141644</td>\n",
       "      <td>2.950000</td>\n",
       "      <td>16</td>\n",
       "    </tr>\n",
       "    <tr>\n",
       "      <th>2</th>\n",
       "      <td>163b0615c2.wav</td>\n",
       "      <td>1</td>\n",
       "      <td>70955</td>\n",
       "      <td>24000</td>\n",
       "      <td>141954</td>\n",
       "      <td>2.956458</td>\n",
       "      <td>16</td>\n",
       "    </tr>\n",
       "  </tbody>\n",
       "</table>\n",
       "</div>"
      ],
      "text/plain": [
       "         filename  channels  frames  sample_rate_hz  size_bytes  duration_s  \\\n",
       "0  c9f135a051.wav         1   62074           24000      124192    2.586417   \n",
       "1  ba12ffc49a.wav         1   70800           24000      141644    2.950000   \n",
       "2  163b0615c2.wav         1   70955           24000      141954    2.956458   \n",
       "\n",
       "   bitrate  \n",
       "0       16  \n",
       "1       16  \n",
       "2       16  "
      ]
     },
     "execution_count": 28,
     "metadata": {},
     "output_type": "execute_result"
    }
   ],
   "source": [
    "%%time\n",
    "# returns pandas DataFrame\n",
    "df = get_audio_stats('numbers/train')\n",
    "df.head(3)"
   ]
  },
  {
   "cell_type": "code",
   "execution_count": 29,
   "metadata": {},
   "outputs": [
    {
     "data": {
      "text/html": [
       "<div>\n",
       "<style scoped>\n",
       "    .dataframe tbody tr th:only-of-type {\n",
       "        vertical-align: middle;\n",
       "    }\n",
       "\n",
       "    .dataframe tbody tr th {\n",
       "        vertical-align: top;\n",
       "    }\n",
       "\n",
       "    .dataframe thead th {\n",
       "        text-align: right;\n",
       "    }\n",
       "</style>\n",
       "<table border=\"1\" class=\"dataframe\">\n",
       "  <thead>\n",
       "    <tr style=\"text-align: right;\">\n",
       "      <th></th>\n",
       "      <th>channels</th>\n",
       "      <th>frames</th>\n",
       "      <th>sample_rate_hz</th>\n",
       "      <th>size_bytes</th>\n",
       "      <th>duration_s</th>\n",
       "      <th>bitrate</th>\n",
       "    </tr>\n",
       "  </thead>\n",
       "  <tbody>\n",
       "    <tr>\n",
       "      <th>count</th>\n",
       "      <td>9020.0</td>\n",
       "      <td>9020.000000</td>\n",
       "      <td>9020.0</td>\n",
       "      <td>9020.000000</td>\n",
       "      <td>9020.000000</td>\n",
       "      <td>9020.0</td>\n",
       "    </tr>\n",
       "    <tr>\n",
       "      <th>mean</th>\n",
       "      <td>1.0</td>\n",
       "      <td>70674.620732</td>\n",
       "      <td>24000.0</td>\n",
       "      <td>141393.241463</td>\n",
       "      <td>2.944776</td>\n",
       "      <td>16.0</td>\n",
       "    </tr>\n",
       "    <tr>\n",
       "      <th>std</th>\n",
       "      <td>0.0</td>\n",
       "      <td>8559.146000</td>\n",
       "      <td>0.0</td>\n",
       "      <td>17118.292000</td>\n",
       "      <td>0.356631</td>\n",
       "      <td>0.0</td>\n",
       "    </tr>\n",
       "    <tr>\n",
       "      <th>min</th>\n",
       "      <td>1.0</td>\n",
       "      <td>25689.000000</td>\n",
       "      <td>24000.0</td>\n",
       "      <td>51422.000000</td>\n",
       "      <td>1.070375</td>\n",
       "      <td>16.0</td>\n",
       "    </tr>\n",
       "    <tr>\n",
       "      <th>25%</th>\n",
       "      <td>1.0</td>\n",
       "      <td>65451.250000</td>\n",
       "      <td>24000.0</td>\n",
       "      <td>130946.500000</td>\n",
       "      <td>2.727135</td>\n",
       "      <td>16.0</td>\n",
       "    </tr>\n",
       "    <tr>\n",
       "      <th>50%</th>\n",
       "      <td>1.0</td>\n",
       "      <td>71519.500000</td>\n",
       "      <td>24000.0</td>\n",
       "      <td>143083.000000</td>\n",
       "      <td>2.979979</td>\n",
       "      <td>16.0</td>\n",
       "    </tr>\n",
       "    <tr>\n",
       "      <th>75%</th>\n",
       "      <td>1.0</td>\n",
       "      <td>76854.500000</td>\n",
       "      <td>24000.0</td>\n",
       "      <td>153753.000000</td>\n",
       "      <td>3.202271</td>\n",
       "      <td>16.0</td>\n",
       "    </tr>\n",
       "    <tr>\n",
       "      <th>max</th>\n",
       "      <td>1.0</td>\n",
       "      <td>91956.000000</td>\n",
       "      <td>24000.0</td>\n",
       "      <td>183956.000000</td>\n",
       "      <td>3.831500</td>\n",
       "      <td>16.0</td>\n",
       "    </tr>\n",
       "  </tbody>\n",
       "</table>\n",
       "</div>"
      ],
      "text/plain": [
       "       channels        frames  sample_rate_hz     size_bytes   duration_s  \\\n",
       "count    9020.0   9020.000000          9020.0    9020.000000  9020.000000   \n",
       "mean        1.0  70674.620732         24000.0  141393.241463     2.944776   \n",
       "std         0.0   8559.146000             0.0   17118.292000     0.356631   \n",
       "min         1.0  25689.000000         24000.0   51422.000000     1.070375   \n",
       "25%         1.0  65451.250000         24000.0  130946.500000     2.727135   \n",
       "50%         1.0  71519.500000         24000.0  143083.000000     2.979979   \n",
       "75%         1.0  76854.500000         24000.0  153753.000000     3.202271   \n",
       "max         1.0  91956.000000         24000.0  183956.000000     3.831500   \n",
       "\n",
       "       bitrate  \n",
       "count   9020.0  \n",
       "mean      16.0  \n",
       "std        0.0  \n",
       "min       16.0  \n",
       "25%       16.0  \n",
       "50%       16.0  \n",
       "75%       16.0  \n",
       "max       16.0  "
      ]
     },
     "execution_count": 29,
     "metadata": {},
     "output_type": "execute_result"
    }
   ],
   "source": [
    "df.describe()"
   ]
  },
  {
   "cell_type": "code",
   "execution_count": 32,
   "metadata": {},
   "outputs": [
    {
     "data": {
      "image/png": "[encoded data removed]",
      "text/plain": [
       "<Figure size 1080x720 with 6 Axes>"
      ]
     },
     "metadata": {
      "needs_background": "light"
     },
     "output_type": "display_data"
    }
   ],
   "source": [
    "fig, axes = plt.subplots(3, 2, figsize=(15, 10))\n",
    "for i, title in enumerate(df.columns ^ {'filename'}):\n",
    "    axes[i//2, i - 2*(i//2)].hist(df[title], bins=100)\n",
    "    axes[i//2, i - 2*(i//2)].set_title(title)\n",
    "#     axes[i // 2, ]\n",
    "plt.tight_layout()\n",
    "plt.show()"
   ]
  },
  {
   "cell_type": "markdown",
   "metadata": {},
   "source": [
    "### pytest"
   ]
  },
  {
   "cell_type": "code",
   "execution_count": 72,
   "metadata": {},
   "outputs": [
    {
     "name": "stdout",
     "output_type": "stream",
     "text": [
      "\u001b[1m============================= test session starts ==============================\u001b[0m\n",
      "platform darwin -- Python 3.7.7, pytest-5.4.3, py-1.9.0, pluggy-0.13.1\n",
      "rootdir: /Users/darayavaus/projects/sirius_SHAD/final_project/asr-shad\n",
      "collected 32 items / 26 deselected / 6 selected                                \u001b[0m\u001b[1m\u001b[1m\n",
      "\n",
      "tests/test_audio_stats.py \u001b[32m.\u001b[0m\u001b[32m.\u001b[0m\u001b[32m.\u001b[0m\u001b[32m.\u001b[0m\u001b[32m.\u001b[0m\u001b[32m.\u001b[0m\u001b[33m                                         [100%]\u001b[0m\n",
      "\n",
      "\u001b[33m=============================== warnings summary ===============================\u001b[0m\n",
      "tests/test_audio_stats.py:28\n",
      "  /Users/darayavaus/projects/sirius_SHAD/final_project/asr-shad/tests/test_audio_stats.py:28: PytestUnknownMarkWarning: Unknown pytest.mark.audio_stats - is this a typo?  You can register custom marks to avoid this warning - for details, see https://docs.pytest.org/en/latest/mark.html\n",
      "    @pytest.mark.audio_stats\n",
      "\n",
      "tests/test_audio_stats.py:34\n",
      "  /Users/darayavaus/projects/sirius_SHAD/final_project/asr-shad/tests/test_audio_stats.py:34: PytestUnknownMarkWarning: Unknown pytest.mark.audio_stats - is this a typo?  You can register custom marks to avoid this warning - for details, see https://docs.pytest.org/en/latest/mark.html\n",
      "    @pytest.mark.audio_stats\n",
      "\n",
      "-- Docs: https://docs.pytest.org/en/latest/warnings.html\n",
      "\u001b[33m================= \u001b[32m6 passed\u001b[0m, \u001b[33m\u001b[1m26 deselected\u001b[0m, \u001b[33m\u001b[1m2 warnings\u001b[0m\u001b[33m in 3.20s\u001b[0m\u001b[33m =================\u001b[0m\n"
     ]
    }
   ],
   "source": [
    "!pytest -m audio_stats"
   ]
  },
  {
   "cell_type": "code",
   "execution_count": null,
   "metadata": {},
   "outputs": [],
   "source": []
  }
 ],
 "metadata": {
  "kernelspec": {
   "display_name": "Python 3",
   "language": "python",
   "name": "python3"
  },
  "language_info": {
   "codemirror_mode": {
    "name": "ipython",
    "version": 3
   },
   "file_extension": ".py",
   "mimetype": "text/x-python",
   "name": "python",
   "nbconvert_exporter": "python",
   "pygments_lexer": "ipython3",
   "version": "3.7.7"
  }
 },
 "nbformat": 4,
 "nbformat_minor": 4
}
