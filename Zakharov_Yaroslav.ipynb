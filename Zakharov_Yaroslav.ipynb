{
  "nbformat": 4,
  "nbformat_minor": 0,
  "metadata": {
    "colab": {
      "name": "Копия Copy of eda-template.ipynb",
      "provenance": [],
      "include_colab_link": true
    },
    "kernelspec": {
      "name": "python3",
      "display_name": "Python 3"
    }
  },
  "cells": [
    {
      "cell_type": "markdown",
      "metadata": {
        "id": "view-in-github",
        "colab_type": "text"
      },
      "source": [
        "<a href=\"https://colab.research.google.com/github/shonenkov/asr-shad/blob/jupyters%2Feda/Zakharov_Yaroslav.ipynb\" target=\"_parent\"><img src=\"https://colab.research.google.com/assets/colab-badge.svg\" alt=\"Open In Colab\"/></a>"
      ]
    },
    {
      "cell_type": "markdown",
      "metadata": {
        "id": "SmRvoyRtKU1i",
        "colab_type": "text"
      },
      "source": [
        "# Зависимости"
      ]
    },
    {
      "cell_type": "code",
      "metadata": {
        "id": "dRGrrqYuHd7A",
        "colab_type": "code",
        "colab": {
          "base_uri": "https://localhost:8080/",
          "height": 35
        },
        "outputId": "1b89c81e-b39f-4268-c405-d0117200fb29"
      },
      "source": [
        "!git clone https://github.com/shonenkov/asr-shad > /dev/null\n",
        "!pip install -r './asr-shad/requirements.txt' > /dev/null"
      ],
      "execution_count": 2,
      "outputs": [
        {
          "output_type": "stream",
          "text": [
            "fatal: destination path 'asr-shad' already exists and is not an empty directory.\n"
          ],
          "name": "stdout"
        }
      ]
    },
    {
      "cell_type": "code",
      "metadata": {
        "id": "osmjTKHoHja3",
        "colab_type": "code",
        "colab": {}
      },
      "source": [
        "import sys\n",
        "sys.path.insert(0, './asr-shad/utils')\n",
        "from audio_stats import get_audio_stats"
      ],
      "execution_count": 3,
      "outputs": []
    },
    {
      "cell_type": "markdown",
      "metadata": {
        "id": "XmgkG96tI4of",
        "colab_type": "text"
      },
      "source": [
        "# Исходные данные:\n",
        "\n",
        "https://drive.google.com/drive/folders/1mNGJOSyNKs9j7ZRuI80u9XAttRY3KXos\n",
        "\n",
        "Необходимо добавить ярлык датасета к себе на диск, затем mount:\n"
      ]
    },
    {
      "cell_type": "code",
      "metadata": {
        "id": "pKUH7Xm1H_Q_",
        "colab_type": "code",
        "colab": {
          "base_uri": "https://localhost:8080/",
          "height": 35
        },
        "outputId": "d4c45ad4-7e04-4699-8ce6-780800289e51"
      },
      "source": [
        "from google.colab import drive\n",
        "drive.mount('/content/drive')"
      ],
      "execution_count": 4,
      "outputs": [
        {
          "output_type": "stream",
          "text": [
            "Drive already mounted at /content/drive; to attempt to forcibly remount, call drive.mount(\"/content/drive\", force_remount=True).\n"
          ],
          "name": "stdout"
        }
      ]
    },
    {
      "cell_type": "code",
      "metadata": {
        "id": "QsFDsvpMPwrt",
        "colab_type": "code",
        "colab": {
          "base_uri": "https://localhost:8080/",
          "height": 35
        },
        "outputId": "a9bbcaf9-09aa-4cf3-ae8a-8cc0ee2f17d4"
      },
      "source": [
        "!ls 'drive/My Drive/numbers/numbers'"
      ],
      "execution_count": 5,
      "outputs": [
        {
          "output_type": "stream",
          "text": [
            "test-example  test-example.csv\ttrain  train.csv\n"
          ],
          "name": "stdout"
        }
      ]
    },
    {
      "cell_type": "code",
      "metadata": {
        "id": "-gU3qe8-IqE1",
        "colab_type": "code",
        "colab": {
          "base_uri": "https://localhost:8080/",
          "height": 34
        },
        "outputId": "fe78e291-8be3-463f-eb53-2d1aded7d94c"
      },
      "source": [
        "INPUT_DIR = \"/content/drive/My Drive/Sirius project. Numbers\"\n",
        "!ls \"{INPUT_DIR}/numbers\""
      ],
      "execution_count": null,
      "outputs": [
        {
          "output_type": "stream",
          "text": [
            "test-example  test-example.csv\ttrain  train.csv\n"
          ],
          "name": "stdout"
        }
      ]
    },
    {
      "cell_type": "markdown",
      "metadata": {
        "id": "jiDDvWMmKdAP",
        "colab_type": "text"
      },
      "source": [
        "# EDA"
      ]
    },
    {
      "cell_type": "code",
      "metadata": {
        "id": "7t83Q1cQIHVB",
        "colab_type": "code",
        "colab": {
          "base_uri": "https://localhost:8080/",
          "height": 108
        },
        "outputId": "29dc5555-122f-4a97-9b0a-c8a60fa948e9"
      },
      "source": [
        "train_csv = 'drive/My Drive/numbers/numbers/train.csv'\n",
        "import matplotlib.pyplot as plt\n",
        "import pandas as pd\n",
        "import numpy as np \n",
        "train  = pd.read_csv(train_csv)\n",
        "train.head(2)"
      ],
      "execution_count": 6,
      "outputs": [
        {
          "output_type": "execute_result",
          "data": {
            "text/html": [
              "<div>\n",
              "<style scoped>\n",
              "    .dataframe tbody tr th:only-of-type {\n",
              "        vertical-align: middle;\n",
              "    }\n",
              "\n",
              "    .dataframe tbody tr th {\n",
              "        vertical-align: top;\n",
              "    }\n",
              "\n",
              "    .dataframe thead th {\n",
              "        text-align: right;\n",
              "    }\n",
              "</style>\n",
              "<table border=\"1\" class=\"dataframe\">\n",
              "  <thead>\n",
              "    <tr style=\"text-align: right;\">\n",
              "      <th></th>\n",
              "      <th>path</th>\n",
              "      <th>gender</th>\n",
              "      <th>number</th>\n",
              "    </tr>\n",
              "  </thead>\n",
              "  <tbody>\n",
              "    <tr>\n",
              "      <th>0</th>\n",
              "      <td>train/e332b996d3.wav</td>\n",
              "      <td>female</td>\n",
              "      <td>157105</td>\n",
              "    </tr>\n",
              "    <tr>\n",
              "      <th>1</th>\n",
              "      <td>train/e25afda49a.wav</td>\n",
              "      <td>female</td>\n",
              "      <td>374554</td>\n",
              "    </tr>\n",
              "  </tbody>\n",
              "</table>\n",
              "</div>"
            ],
            "text/plain": [
              "                   path  gender  number\n",
              "0  train/e332b996d3.wav  female  157105\n",
              "1  train/e25afda49a.wav  female  374554"
            ]
          },
          "metadata": {
            "tags": []
          },
          "execution_count": 6
        }
      ]
    },
    {
      "cell_type": "code",
      "metadata": {
        "id": "h85kguaHzqz7",
        "colab_type": "code",
        "colab": {
          "base_uri": "https://localhost:8080/",
          "height": 35
        },
        "outputId": "3a413d15-6297-4420-fad1-bf675a634c2b"
      },
      "source": [
        "#числа не повторяются , значит девушка и парень произносят разные числа\n",
        "np.max(train['number'].value_counts())"
      ],
      "execution_count": 7,
      "outputs": [
        {
          "output_type": "execute_result",
          "data": {
            "text/plain": [
              "1"
            ]
          },
          "metadata": {
            "tags": []
          },
          "execution_count": 7
        }
      ]
    },
    {
      "cell_type": "code",
      "metadata": {
        "id": "qBFZeUeKGDHv",
        "colab_type": "code",
        "colab": {}
      },
      "source": [
        "sys.path.insert(0, '../utils')\n",
        "from audio_stats import get_audio_stats, get_audio_meta"
      ],
      "execution_count": 8,
      "outputs": []
    },
    {
      "cell_type": "code",
      "metadata": {
        "id": "8VaqWytOGFGX",
        "colab_type": "code",
        "colab": {}
      },
      "source": [
        "audio_stats = get_audio_stats('drive/My Drive/numbers/numbers/train')\n",
        "audio_stats.head()"
      ],
      "execution_count": null,
      "outputs": []
    },
    {
      "cell_type": "code",
      "metadata": {
        "id": "jmnkDptMvnyY",
        "colab_type": "code",
        "colab": {
          "base_uri": "https://localhost:8080/",
          "height": 34
        },
        "outputId": "0373a02f-3a8f-4242-c210-127e122542cd"
      },
      "source": [
        "len(audio_stats)"
      ],
      "execution_count": null,
      "outputs": [
        {
          "output_type": "execute_result",
          "data": {
            "text/plain": [
              "9020"
            ]
          },
          "metadata": {
            "tags": []
          },
          "execution_count": 225
        }
      ]
    },
    {
      "cell_type": "code",
      "metadata": {
        "id": "8VnCtyDy4wWB",
        "colab_type": "code",
        "colab": {
          "base_uri": "https://localhost:8080/",
          "height": 112
        },
        "outputId": "b5e3ad87-96ad-4eb4-8bd8-d02322d26d60"
      },
      "source": [
        "stats = audio_stats.copy()\n",
        "stats['filename'] = 'train/' + stats['filename']\n",
        "stats.head(2)"
      ],
      "execution_count": null,
      "outputs": [
        {
          "output_type": "execute_result",
          "data": {
            "text/html": [
              "<div>\n",
              "<style scoped>\n",
              "    .dataframe tbody tr th:only-of-type {\n",
              "        vertical-align: middle;\n",
              "    }\n",
              "\n",
              "    .dataframe tbody tr th {\n",
              "        vertical-align: top;\n",
              "    }\n",
              "\n",
              "    .dataframe thead th {\n",
              "        text-align: right;\n",
              "    }\n",
              "</style>\n",
              "<table border=\"1\" class=\"dataframe\">\n",
              "  <thead>\n",
              "    <tr style=\"text-align: right;\">\n",
              "      <th></th>\n",
              "      <th>filename</th>\n",
              "      <th>channels</th>\n",
              "      <th>frames</th>\n",
              "      <th>sample_rate_hz</th>\n",
              "      <th>size_bytes</th>\n",
              "      <th>duration_s</th>\n",
              "      <th>bitrate</th>\n",
              "    </tr>\n",
              "  </thead>\n",
              "  <tbody>\n",
              "    <tr>\n",
              "      <th>0</th>\n",
              "      <td>train/d56ee4cb49.wav</td>\n",
              "      <td>1</td>\n",
              "      <td>64326</td>\n",
              "      <td>24000</td>\n",
              "      <td>128696</td>\n",
              "      <td>2.680250</td>\n",
              "      <td>16</td>\n",
              "    </tr>\n",
              "    <tr>\n",
              "      <th>1</th>\n",
              "      <td>train/9ddedee2aa.wav</td>\n",
              "      <td>1</td>\n",
              "      <td>83099</td>\n",
              "      <td>24000</td>\n",
              "      <td>166242</td>\n",
              "      <td>3.462458</td>\n",
              "      <td>16</td>\n",
              "    </tr>\n",
              "  </tbody>\n",
              "</table>\n",
              "</div>"
            ],
            "text/plain": [
              "               filename  channels  frames  ...  size_bytes  duration_s  bitrate\n",
              "0  train/d56ee4cb49.wav         1   64326  ...      128696    2.680250       16\n",
              "1  train/9ddedee2aa.wav         1   83099  ...      166242    3.462458       16\n",
              "\n",
              "[2 rows x 7 columns]"
            ]
          },
          "metadata": {
            "tags": []
          },
          "execution_count": 220
        }
      ]
    },
    {
      "cell_type": "code",
      "metadata": {
        "id": "CkWrX_-_Rg8l",
        "colab_type": "code",
        "colab": {
          "base_uri": "https://localhost:8080/",
          "height": 112
        },
        "outputId": "d9b02978-516e-4e92-cc45-9395d66f9ea8"
      },
      "source": [
        "stats = stats.rename(columns={\"filename\": \"path\"})\n",
        "stats.head(2)"
      ],
      "execution_count": null,
      "outputs": [
        {
          "output_type": "execute_result",
          "data": {
            "text/html": [
              "<div>\n",
              "<style scoped>\n",
              "    .dataframe tbody tr th:only-of-type {\n",
              "        vertical-align: middle;\n",
              "    }\n",
              "\n",
              "    .dataframe tbody tr th {\n",
              "        vertical-align: top;\n",
              "    }\n",
              "\n",
              "    .dataframe thead th {\n",
              "        text-align: right;\n",
              "    }\n",
              "</style>\n",
              "<table border=\"1\" class=\"dataframe\">\n",
              "  <thead>\n",
              "    <tr style=\"text-align: right;\">\n",
              "      <th></th>\n",
              "      <th>path</th>\n",
              "      <th>channels</th>\n",
              "      <th>frames</th>\n",
              "      <th>sample_rate_hz</th>\n",
              "      <th>size_bytes</th>\n",
              "      <th>duration_s</th>\n",
              "      <th>bitrate</th>\n",
              "    </tr>\n",
              "  </thead>\n",
              "  <tbody>\n",
              "    <tr>\n",
              "      <th>0</th>\n",
              "      <td>train/d56ee4cb49.wav</td>\n",
              "      <td>1</td>\n",
              "      <td>64326</td>\n",
              "      <td>24000</td>\n",
              "      <td>128696</td>\n",
              "      <td>2.680250</td>\n",
              "      <td>16</td>\n",
              "    </tr>\n",
              "    <tr>\n",
              "      <th>1</th>\n",
              "      <td>train/9ddedee2aa.wav</td>\n",
              "      <td>1</td>\n",
              "      <td>83099</td>\n",
              "      <td>24000</td>\n",
              "      <td>166242</td>\n",
              "      <td>3.462458</td>\n",
              "      <td>16</td>\n",
              "    </tr>\n",
              "  </tbody>\n",
              "</table>\n",
              "</div>"
            ],
            "text/plain": [
              "                   path  channels  frames  ...  size_bytes  duration_s  bitrate\n",
              "0  train/d56ee4cb49.wav         1   64326  ...      128696    2.680250       16\n",
              "1  train/9ddedee2aa.wav         1   83099  ...      166242    3.462458       16\n",
              "\n",
              "[2 rows x 7 columns]"
            ]
          },
          "metadata": {
            "tags": []
          },
          "execution_count": 221
        }
      ]
    },
    {
      "cell_type": "code",
      "metadata": {
        "id": "RjgKI-FKTuA4",
        "colab_type": "code",
        "colab": {
          "base_uri": "https://localhost:8080/",
          "height": 206
        },
        "outputId": "b4182096-8297-40f4-9e5c-8aeaa16fd5c1"
      },
      "source": [
        "res = pd.merge(stats, train, on='path', how='outer', indicator=True)\n",
        "res[res['_merge']!='both'].head()"
      ],
      "execution_count": null,
      "outputs": [
        {
          "output_type": "execute_result",
          "data": {
            "text/html": [
              "<div>\n",
              "<style scoped>\n",
              "    .dataframe tbody tr th:only-of-type {\n",
              "        vertical-align: middle;\n",
              "    }\n",
              "\n",
              "    .dataframe tbody tr th {\n",
              "        vertical-align: top;\n",
              "    }\n",
              "\n",
              "    .dataframe thead th {\n",
              "        text-align: right;\n",
              "    }\n",
              "</style>\n",
              "<table border=\"1\" class=\"dataframe\">\n",
              "  <thead>\n",
              "    <tr style=\"text-align: right;\">\n",
              "      <th></th>\n",
              "      <th>path</th>\n",
              "      <th>channels</th>\n",
              "      <th>frames</th>\n",
              "      <th>sample_rate_hz</th>\n",
              "      <th>size_bytes</th>\n",
              "      <th>duration_s</th>\n",
              "      <th>bitrate</th>\n",
              "      <th>gender</th>\n",
              "      <th>number</th>\n",
              "      <th>_merge</th>\n",
              "    </tr>\n",
              "  </thead>\n",
              "  <tbody>\n",
              "    <tr>\n",
              "      <th>75</th>\n",
              "      <td>train/992e0e5ff5 (1).wav</td>\n",
              "      <td>1</td>\n",
              "      <td>83055</td>\n",
              "      <td>24000</td>\n",
              "      <td>166154</td>\n",
              "      <td>3.460625</td>\n",
              "      <td>16</td>\n",
              "      <td>NaN</td>\n",
              "      <td>NaN</td>\n",
              "      <td>left_only</td>\n",
              "    </tr>\n",
              "    <tr>\n",
              "      <th>374</th>\n",
              "      <td>train/2bdb5dcc30 (1).wav</td>\n",
              "      <td>1</td>\n",
              "      <td>73077</td>\n",
              "      <td>24000</td>\n",
              "      <td>146198</td>\n",
              "      <td>3.044875</td>\n",
              "      <td>16</td>\n",
              "      <td>NaN</td>\n",
              "      <td>NaN</td>\n",
              "      <td>left_only</td>\n",
              "    </tr>\n",
              "    <tr>\n",
              "      <th>773</th>\n",
              "      <td>train/7b7d0cbdea (1).wav</td>\n",
              "      <td>1</td>\n",
              "      <td>67298</td>\n",
              "      <td>24000</td>\n",
              "      <td>134640</td>\n",
              "      <td>2.804083</td>\n",
              "      <td>16</td>\n",
              "      <td>NaN</td>\n",
              "      <td>NaN</td>\n",
              "      <td>left_only</td>\n",
              "    </tr>\n",
              "    <tr>\n",
              "      <th>2691</th>\n",
              "      <td>train/59b8d39784 (1).wav</td>\n",
              "      <td>1</td>\n",
              "      <td>88865</td>\n",
              "      <td>24000</td>\n",
              "      <td>177774</td>\n",
              "      <td>3.702708</td>\n",
              "      <td>16</td>\n",
              "      <td>NaN</td>\n",
              "      <td>NaN</td>\n",
              "      <td>left_only</td>\n",
              "    </tr>\n",
              "    <tr>\n",
              "      <th>3053</th>\n",
              "      <td>train/0ab62c4d60 (1).wav</td>\n",
              "      <td>1</td>\n",
              "      <td>82179</td>\n",
              "      <td>24000</td>\n",
              "      <td>164402</td>\n",
              "      <td>3.424125</td>\n",
              "      <td>16</td>\n",
              "      <td>NaN</td>\n",
              "      <td>NaN</td>\n",
              "      <td>left_only</td>\n",
              "    </tr>\n",
              "  </tbody>\n",
              "</table>\n",
              "</div>"
            ],
            "text/plain": [
              "                          path  channels  frames  ...  gender  number     _merge\n",
              "75    train/992e0e5ff5 (1).wav         1   83055  ...     NaN     NaN  left_only\n",
              "374   train/2bdb5dcc30 (1).wav         1   73077  ...     NaN     NaN  left_only\n",
              "773   train/7b7d0cbdea (1).wav         1   67298  ...     NaN     NaN  left_only\n",
              "2691  train/59b8d39784 (1).wav         1   88865  ...     NaN     NaN  left_only\n",
              "3053  train/0ab62c4d60 (1).wav         1   82179  ...     NaN     NaN  left_only\n",
              "\n",
              "[5 rows x 10 columns]"
            ]
          },
          "metadata": {
            "tags": []
          },
          "execution_count": 222
        }
      ]
    },
    {
      "cell_type": "code",
      "metadata": {
        "id": "9UqYd_XWae7T",
        "colab_type": "code",
        "colab": {
          "base_uri": "https://localhost:8080/",
          "height": 81
        },
        "outputId": "d1a7af8e-5aee-4e5b-aa9e-bad724f1c2f1"
      },
      "source": [
        "#есть файлы с именами без единицы\n",
        "res[res['path']=='train/992e0e5ff5.wav']"
      ],
      "execution_count": null,
      "outputs": [
        {
          "output_type": "execute_result",
          "data": {
            "text/html": [
              "<div>\n",
              "<style scoped>\n",
              "    .dataframe tbody tr th:only-of-type {\n",
              "        vertical-align: middle;\n",
              "    }\n",
              "\n",
              "    .dataframe tbody tr th {\n",
              "        vertical-align: top;\n",
              "    }\n",
              "\n",
              "    .dataframe thead th {\n",
              "        text-align: right;\n",
              "    }\n",
              "</style>\n",
              "<table border=\"1\" class=\"dataframe\">\n",
              "  <thead>\n",
              "    <tr style=\"text-align: right;\">\n",
              "      <th></th>\n",
              "      <th>path</th>\n",
              "      <th>channels</th>\n",
              "      <th>frames</th>\n",
              "      <th>sample_rate_hz</th>\n",
              "      <th>size_bytes</th>\n",
              "      <th>duration_s</th>\n",
              "      <th>bitrate</th>\n",
              "      <th>gender</th>\n",
              "      <th>number</th>\n",
              "      <th>_merge</th>\n",
              "    </tr>\n",
              "  </thead>\n",
              "  <tbody>\n",
              "    <tr>\n",
              "      <th>79</th>\n",
              "      <td>train/992e0e5ff5.wav</td>\n",
              "      <td>1</td>\n",
              "      <td>83055</td>\n",
              "      <td>24000</td>\n",
              "      <td>166154</td>\n",
              "      <td>3.460625</td>\n",
              "      <td>16</td>\n",
              "      <td>male</td>\n",
              "      <td>782856.0</td>\n",
              "      <td>both</td>\n",
              "    </tr>\n",
              "  </tbody>\n",
              "</table>\n",
              "</div>"
            ],
            "text/plain": [
              "                    path  channels  frames  ...  gender    number  _merge\n",
              "79  train/992e0e5ff5.wav         1   83055  ...    male  782856.0    both\n",
              "\n",
              "[1 rows x 10 columns]"
            ]
          },
          "metadata": {
            "tags": []
          },
          "execution_count": 124
        }
      ]
    },
    {
      "cell_type": "code",
      "metadata": {
        "id": "SpY30K5Drwa3",
        "colab_type": "code",
        "colab": {
          "base_uri": "https://localhost:8080/",
          "height": 86
        },
        "outputId": "3c7cb7c4-3d36-4162-e5d1-b363d84beb4b"
      },
      "source": [
        "res['channels'].value_counts() ,res['bitrate'].value_counts(), res['sample_rate_hz'].value_counts()"
      ],
      "execution_count": null,
      "outputs": [
        {
          "output_type": "execute_result",
          "data": {
            "text/plain": [
              "(1    9020\n",
              " Name: channels, dtype: int64, 16    9020\n",
              " Name: bitrate, dtype: int64, 24000    9020\n",
              " Name: sample_rate_hz, dtype: int64)"
            ]
          },
          "metadata": {
            "tags": []
          },
          "execution_count": 224
        }
      ]
    },
    {
      "cell_type": "code",
      "metadata": {
        "id": "Hgjj_cn1ubSN",
        "colab_type": "code",
        "colab": {
          "base_uri": "https://localhost:8080/",
          "height": 297
        },
        "outputId": "ec43e1b3-f8b5-4b6c-83ac-08adc6ab2549"
      },
      "source": [
        "plt.plot(res[\"size_bytes\"], res['duration_s'], label=\"number_vs_duration\", color=\"black\")\n",
        "plt.title(\"duration_vs_size_bytes\")\n",
        "plt.grid()\n",
        "plt.xlabel(\"size_bytes\")\n",
        "plt.ylabel(\"duration\")\n",
        "plt.tight_layout()\n",
        "plt.show()"
      ],
      "execution_count": null,
      "outputs": [
        {
          "output_type": "display_data",
          "data": {
            "image/png": "[encoded data removed]",
            "text/plain": [
              "<Figure size 432x288 with 1 Axes>"
            ]
          },
          "metadata": {
            "tags": [],
            "needs_background": "light"
          }
        }
      ]
    },
    {
      "cell_type": "code",
      "metadata": {
        "id": "cGT_y9JAbJTA",
        "colab_type": "code",
        "colab": {
          "base_uri": "https://localhost:8080/",
          "height": 424
        },
        "outputId": "889456a1-9f6a-4668-cc7f-a2cd2c955ae3"
      },
      "source": [
        "#чистим данные\n",
        "index_of_copies =  res[res['_merge']!='both'].index.values.astype(int)\n",
        "res =res.drop(index_of_copies)\n",
        "res = res.drop(columns=['_merge','channels','bitrate','sample_rate_hz','size_bytes' ])\n",
        "res"
      ],
      "execution_count": null,
      "outputs": [
        {
          "output_type": "execute_result",
          "data": {
            "text/html": [
              "<div>\n",
              "<style scoped>\n",
              "    .dataframe tbody tr th:only-of-type {\n",
              "        vertical-align: middle;\n",
              "    }\n",
              "\n",
              "    .dataframe tbody tr th {\n",
              "        vertical-align: top;\n",
              "    }\n",
              "\n",
              "    .dataframe thead th {\n",
              "        text-align: right;\n",
              "    }\n",
              "</style>\n",
              "<table border=\"1\" class=\"dataframe\">\n",
              "  <thead>\n",
              "    <tr style=\"text-align: right;\">\n",
              "      <th></th>\n",
              "      <th>path</th>\n",
              "      <th>frames</th>\n",
              "      <th>duration_s</th>\n",
              "      <th>gender</th>\n",
              "      <th>number</th>\n",
              "    </tr>\n",
              "  </thead>\n",
              "  <tbody>\n",
              "    <tr>\n",
              "      <th>0</th>\n",
              "      <td>train/d56ee4cb49.wav</td>\n",
              "      <td>64326</td>\n",
              "      <td>2.680250</td>\n",
              "      <td>female</td>\n",
              "      <td>732115.0</td>\n",
              "    </tr>\n",
              "    <tr>\n",
              "      <th>1</th>\n",
              "      <td>train/9ddedee2aa.wav</td>\n",
              "      <td>83099</td>\n",
              "      <td>3.462458</td>\n",
              "      <td>male</td>\n",
              "      <td>781254.0</td>\n",
              "    </tr>\n",
              "    <tr>\n",
              "      <th>2</th>\n",
              "      <td>train/37f345b989.wav</td>\n",
              "      <td>85962</td>\n",
              "      <td>3.581750</td>\n",
              "      <td>female</td>\n",
              "      <td>871994.0</td>\n",
              "    </tr>\n",
              "    <tr>\n",
              "      <th>3</th>\n",
              "      <td>train/23367fea22.wav</td>\n",
              "      <td>69294</td>\n",
              "      <td>2.887250</td>\n",
              "      <td>male</td>\n",
              "      <td>915672.0</td>\n",
              "    </tr>\n",
              "    <tr>\n",
              "      <th>4</th>\n",
              "      <td>train/5e08e576be.wav</td>\n",
              "      <td>62958</td>\n",
              "      <td>2.623250</td>\n",
              "      <td>female</td>\n",
              "      <td>980032.0</td>\n",
              "    </tr>\n",
              "    <tr>\n",
              "      <th>...</th>\n",
              "      <td>...</td>\n",
              "      <td>...</td>\n",
              "      <td>...</td>\n",
              "      <td>...</td>\n",
              "      <td>...</td>\n",
              "    </tr>\n",
              "    <tr>\n",
              "      <th>9015</th>\n",
              "      <td>train/b90381298e.wav</td>\n",
              "      <td>58417</td>\n",
              "      <td>2.434042</td>\n",
              "      <td>female</td>\n",
              "      <td>25532.0</td>\n",
              "    </tr>\n",
              "    <tr>\n",
              "      <th>9016</th>\n",
              "      <td>train/769ca2032a.wav</td>\n",
              "      <td>43592</td>\n",
              "      <td>1.816333</td>\n",
              "      <td>male</td>\n",
              "      <td>840001.0</td>\n",
              "    </tr>\n",
              "    <tr>\n",
              "      <th>9017</th>\n",
              "      <td>train/b4c275ce77.wav</td>\n",
              "      <td>60220</td>\n",
              "      <td>2.509167</td>\n",
              "      <td>female</td>\n",
              "      <td>939105.0</td>\n",
              "    </tr>\n",
              "    <tr>\n",
              "      <th>9018</th>\n",
              "      <td>train/c6e4692c5d.wav</td>\n",
              "      <td>71620</td>\n",
              "      <td>2.984167</td>\n",
              "      <td>female</td>\n",
              "      <td>726752.0</td>\n",
              "    </tr>\n",
              "    <tr>\n",
              "      <th>9019</th>\n",
              "      <td>train/271e365f07.wav</td>\n",
              "      <td>69445</td>\n",
              "      <td>2.893542</td>\n",
              "      <td>female</td>\n",
              "      <td>58761.0</td>\n",
              "    </tr>\n",
              "  </tbody>\n",
              "</table>\n",
              "<p>9000 rows × 5 columns</p>\n",
              "</div>"
            ],
            "text/plain": [
              "                      path  frames  duration_s  gender    number\n",
              "0     train/d56ee4cb49.wav   64326    2.680250  female  732115.0\n",
              "1     train/9ddedee2aa.wav   83099    3.462458    male  781254.0\n",
              "2     train/37f345b989.wav   85962    3.581750  female  871994.0\n",
              "3     train/23367fea22.wav   69294    2.887250    male  915672.0\n",
              "4     train/5e08e576be.wav   62958    2.623250  female  980032.0\n",
              "...                    ...     ...         ...     ...       ...\n",
              "9015  train/b90381298e.wav   58417    2.434042  female   25532.0\n",
              "9016  train/769ca2032a.wav   43592    1.816333    male  840001.0\n",
              "9017  train/b4c275ce77.wav   60220    2.509167  female  939105.0\n",
              "9018  train/c6e4692c5d.wav   71620    2.984167  female  726752.0\n",
              "9019  train/271e365f07.wav   69445    2.893542  female   58761.0\n",
              "\n",
              "[9000 rows x 5 columns]"
            ]
          },
          "metadata": {
            "tags": []
          },
          "execution_count": 226
        }
      ]
    },
    {
      "cell_type": "code",
      "metadata": {
        "id": "VIVmA2mmeG0o",
        "colab_type": "code",
        "colab": {}
      },
      "source": [
        "\n",
        "sys.path.insert(0, './asr-shad/')\n",
        "from utils.text_stats import *"
      ],
      "execution_count": null,
      "outputs": []
    },
    {
      "cell_type": "code",
      "metadata": {
        "id": "0CflmbTciv4s",
        "colab_type": "code",
        "colab": {}
      },
      "source": [
        "def num_of_letters(num):\n",
        "  return len(num2text(num)) - len(num2text(num).split(' '))+1"
      ],
      "execution_count": null,
      "outputs": []
    },
    {
      "cell_type": "code",
      "metadata": {
        "id": "HnNxKqJAlfXR",
        "colab_type": "code",
        "colab": {
          "base_uri": "https://localhost:8080/",
          "height": 112
        },
        "outputId": "f7f90db4-1177-4ad7-a576-f9f69b8cf526"
      },
      "source": [
        "d = {'number': [i for i in res['number']], \n",
        "     'num_of_words': [len(num2text(i).split(' ')) for i in res['number']],\n",
        "     'num_of_letters':[num_of_letters(i) for i in res['number']] ,\n",
        "     'num_of_digits': [len(str(int(i))) for i in res['number']] }\n",
        "text_stats = pd.DataFrame(data=d )\n",
        "text_stats.head(2)"
      ],
      "execution_count": null,
      "outputs": [
        {
          "output_type": "execute_result",
          "data": {
            "text/html": [
              "<div>\n",
              "<style scoped>\n",
              "    .dataframe tbody tr th:only-of-type {\n",
              "        vertical-align: middle;\n",
              "    }\n",
              "\n",
              "    .dataframe tbody tr th {\n",
              "        vertical-align: top;\n",
              "    }\n",
              "\n",
              "    .dataframe thead th {\n",
              "        text-align: right;\n",
              "    }\n",
              "</style>\n",
              "<table border=\"1\" class=\"dataframe\">\n",
              "  <thead>\n",
              "    <tr style=\"text-align: right;\">\n",
              "      <th></th>\n",
              "      <th>number</th>\n",
              "      <th>num_of_words</th>\n",
              "      <th>num_of_letters</th>\n",
              "      <th>num_of_digits</th>\n",
              "    </tr>\n",
              "  </thead>\n",
              "  <tbody>\n",
              "    <tr>\n",
              "      <th>0</th>\n",
              "      <td>732115.0</td>\n",
              "      <td>6</td>\n",
              "      <td>37</td>\n",
              "      <td>6</td>\n",
              "    </tr>\n",
              "    <tr>\n",
              "      <th>1</th>\n",
              "      <td>781254.0</td>\n",
              "      <td>7</td>\n",
              "      <td>49</td>\n",
              "      <td>6</td>\n",
              "    </tr>\n",
              "  </tbody>\n",
              "</table>\n",
              "</div>"
            ],
            "text/plain": [
              "     number  num_of_words  num_of_letters  num_of_digits\n",
              "0  732115.0             6              37              6\n",
              "1  781254.0             7              49              6"
            ]
          },
          "metadata": {
            "tags": []
          },
          "execution_count": 227
        }
      ]
    },
    {
      "cell_type": "code",
      "metadata": {
        "id": "jtTZLfHXmGKc",
        "colab_type": "code",
        "colab": {
          "base_uri": "https://localhost:8080/",
          "height": 49
        },
        "outputId": "f2d18b39-3822-46fc-915c-a0975394ec31"
      },
      "source": [
        "total = pd.merge(res, text_stats, on='number', how='outer', indicator=True)\n",
        "total[total['_merge']!='both'].head()"
      ],
      "execution_count": null,
      "outputs": [
        {
          "output_type": "execute_result",
          "data": {
            "text/html": [
              "<div>\n",
              "<style scoped>\n",
              "    .dataframe tbody tr th:only-of-type {\n",
              "        vertical-align: middle;\n",
              "    }\n",
              "\n",
              "    .dataframe tbody tr th {\n",
              "        vertical-align: top;\n",
              "    }\n",
              "\n",
              "    .dataframe thead th {\n",
              "        text-align: right;\n",
              "    }\n",
              "</style>\n",
              "<table border=\"1\" class=\"dataframe\">\n",
              "  <thead>\n",
              "    <tr style=\"text-align: right;\">\n",
              "      <th></th>\n",
              "      <th>path</th>\n",
              "      <th>frames</th>\n",
              "      <th>duration_s</th>\n",
              "      <th>gender</th>\n",
              "      <th>number</th>\n",
              "      <th>num_of_words</th>\n",
              "      <th>num_of_letters</th>\n",
              "      <th>num_of_digits</th>\n",
              "      <th>_merge</th>\n",
              "    </tr>\n",
              "  </thead>\n",
              "  <tbody>\n",
              "  </tbody>\n",
              "</table>\n",
              "</div>"
            ],
            "text/plain": [
              "Empty DataFrame\n",
              "Columns: [path, frames, duration_s, gender, number, num_of_words, num_of_letters, num_of_digits, _merge]\n",
              "Index: []"
            ]
          },
          "metadata": {
            "tags": []
          },
          "execution_count": 228
        }
      ]
    },
    {
      "cell_type": "code",
      "metadata": {
        "id": "jsYEkNzuwyJh",
        "colab_type": "code",
        "colab": {
          "base_uri": "https://localhost:8080/",
          "height": 206
        },
        "outputId": "a62bbacc-db18-475d-e208-92912735a124"
      },
      "source": [
        "total.head()"
      ],
      "execution_count": null,
      "outputs": [
        {
          "output_type": "execute_result",
          "data": {
            "text/html": [
              "<div>\n",
              "<style scoped>\n",
              "    .dataframe tbody tr th:only-of-type {\n",
              "        vertical-align: middle;\n",
              "    }\n",
              "\n",
              "    .dataframe tbody tr th {\n",
              "        vertical-align: top;\n",
              "    }\n",
              "\n",
              "    .dataframe thead th {\n",
              "        text-align: right;\n",
              "    }\n",
              "</style>\n",
              "<table border=\"1\" class=\"dataframe\">\n",
              "  <thead>\n",
              "    <tr style=\"text-align: right;\">\n",
              "      <th></th>\n",
              "      <th>path</th>\n",
              "      <th>frames</th>\n",
              "      <th>duration_s</th>\n",
              "      <th>gender</th>\n",
              "      <th>number</th>\n",
              "      <th>num_of_words</th>\n",
              "      <th>num_of_letters</th>\n",
              "      <th>num_of_digits</th>\n",
              "      <th>_merge</th>\n",
              "    </tr>\n",
              "  </thead>\n",
              "  <tbody>\n",
              "    <tr>\n",
              "      <th>0</th>\n",
              "      <td>train/d56ee4cb49.wav</td>\n",
              "      <td>64326</td>\n",
              "      <td>2.680250</td>\n",
              "      <td>female</td>\n",
              "      <td>732115.0</td>\n",
              "      <td>6</td>\n",
              "      <td>37</td>\n",
              "      <td>6</td>\n",
              "      <td>both</td>\n",
              "    </tr>\n",
              "    <tr>\n",
              "      <th>1</th>\n",
              "      <td>train/9ddedee2aa.wav</td>\n",
              "      <td>83099</td>\n",
              "      <td>3.462458</td>\n",
              "      <td>male</td>\n",
              "      <td>781254.0</td>\n",
              "      <td>7</td>\n",
              "      <td>49</td>\n",
              "      <td>6</td>\n",
              "      <td>both</td>\n",
              "    </tr>\n",
              "    <tr>\n",
              "      <th>2</th>\n",
              "      <td>train/37f345b989.wav</td>\n",
              "      <td>85962</td>\n",
              "      <td>3.581750</td>\n",
              "      <td>female</td>\n",
              "      <td>871994.0</td>\n",
              "      <td>7</td>\n",
              "      <td>52</td>\n",
              "      <td>6</td>\n",
              "      <td>both</td>\n",
              "    </tr>\n",
              "    <tr>\n",
              "      <th>3</th>\n",
              "      <td>train/23367fea22.wav</td>\n",
              "      <td>69294</td>\n",
              "      <td>2.887250</td>\n",
              "      <td>male</td>\n",
              "      <td>915672.0</td>\n",
              "      <td>6</td>\n",
              "      <td>44</td>\n",
              "      <td>6</td>\n",
              "      <td>both</td>\n",
              "    </tr>\n",
              "    <tr>\n",
              "      <th>4</th>\n",
              "      <td>train/5e08e576be.wav</td>\n",
              "      <td>62958</td>\n",
              "      <td>2.623250</td>\n",
              "      <td>female</td>\n",
              "      <td>980032.0</td>\n",
              "      <td>5</td>\n",
              "      <td>36</td>\n",
              "      <td>6</td>\n",
              "      <td>both</td>\n",
              "    </tr>\n",
              "  </tbody>\n",
              "</table>\n",
              "</div>"
            ],
            "text/plain": [
              "                   path  frames  ...  num_of_digits _merge\n",
              "0  train/d56ee4cb49.wav   64326  ...              6   both\n",
              "1  train/9ddedee2aa.wav   83099  ...              6   both\n",
              "2  train/37f345b989.wav   85962  ...              6   both\n",
              "3  train/23367fea22.wav   69294  ...              6   both\n",
              "4  train/5e08e576be.wav   62958  ...              6   both\n",
              "\n",
              "[5 rows x 9 columns]"
            ]
          },
          "metadata": {
            "tags": []
          },
          "execution_count": 250
        }
      ]
    },
    {
      "cell_type": "code",
      "metadata": {
        "id": "clDV-NTx9M6m",
        "colab_type": "code",
        "colab": {}
      },
      "source": [
        "plt.scatter()"
      ],
      "execution_count": null,
      "outputs": []
    },
    {
      "cell_type": "code",
      "metadata": {
        "id": "sW8m8azBIcl3",
        "colab_type": "code",
        "colab": {}
      },
      "source": [
        "l     = [0,1,2,3,4,5,6,7,8,9,10,11,12,13,14,15,16,17,18,19,20,30,40,50,60,70,80,90,100,200,300,400,500,600,700,800,900]\n",
        "slogi = {0:1,1:2, 2:1,3:1, 4:3, 5:1, 6:1,  7:1, 8:2,\n",
        "         9:2,10:2,11:4,12:3,13:3,14:4,15:3,16:3,17:3,18:4,19:4,20:2,30:2,40:2,50:3,60:3,70:3,80:4,90:4,100:1,200:2,300:2,400:4,500:2,600:2,700:2,800:3,900:3}"
      ],
      "execution_count": null,
      "outputs": []
    },
    {
      "cell_type": "code",
      "metadata": {
        "id": "huCnUo-Dwalv",
        "colab_type": "code",
        "colab": {}
      },
      "source": [
        "import torch\n",
        "import torchaudio\n",
        "from torch.utils.data import Dataset, DataLoader\n",
        "from utils.sound_dataset import SoundDataset\n",
        "from utils.torchaudio_methods import draw_waveform, draw_spectrogram"
      ],
      "execution_count": null,
      "outputs": []
    },
    {
      "cell_type": "code",
      "metadata": {
        "id": "5jEq_Rqq60fV",
        "colab_type": "code",
        "colab": {
          "base_uri": "https://localhost:8080/",
          "height": 300
        },
        "outputId": "5997a21f-6c70-4098-ae2a-1c430b8a11f5"
      },
      "source": [
        "total.describe()"
      ],
      "execution_count": null,
      "outputs": [
        {
          "output_type": "execute_result",
          "data": {
            "text/html": [
              "<div>\n",
              "<style scoped>\n",
              "    .dataframe tbody tr th:only-of-type {\n",
              "        vertical-align: middle;\n",
              "    }\n",
              "\n",
              "    .dataframe tbody tr th {\n",
              "        vertical-align: top;\n",
              "    }\n",
              "\n",
              "    .dataframe thead th {\n",
              "        text-align: right;\n",
              "    }\n",
              "</style>\n",
              "<table border=\"1\" class=\"dataframe\">\n",
              "  <thead>\n",
              "    <tr style=\"text-align: right;\">\n",
              "      <th></th>\n",
              "      <th>frames</th>\n",
              "      <th>duration_s</th>\n",
              "      <th>number</th>\n",
              "      <th>num_of_words</th>\n",
              "      <th>num_of_letters</th>\n",
              "      <th>num_of_digits</th>\n",
              "    </tr>\n",
              "  </thead>\n",
              "  <tbody>\n",
              "    <tr>\n",
              "      <th>count</th>\n",
              "      <td>9000.000000</td>\n",
              "      <td>9000.000000</td>\n",
              "      <td>9000.000000</td>\n",
              "      <td>9000.000000</td>\n",
              "      <td>9000.000000</td>\n",
              "      <td>9000.000000</td>\n",
              "    </tr>\n",
              "    <tr>\n",
              "      <th>mean</th>\n",
              "      <td>70670.257222</td>\n",
              "      <td>2.944594</td>\n",
              "      <td>498985.033889</td>\n",
              "      <td>6.216667</td>\n",
              "      <td>41.452222</td>\n",
              "      <td>5.888889</td>\n",
              "    </tr>\n",
              "    <tr>\n",
              "      <th>std</th>\n",
              "      <td>8559.040935</td>\n",
              "      <td>0.356627</td>\n",
              "      <td>287934.540294</td>\n",
              "      <td>0.799037</td>\n",
              "      <td>6.239038</td>\n",
              "      <td>0.355436</td>\n",
              "    </tr>\n",
              "    <tr>\n",
              "      <th>min</th>\n",
              "      <td>25689.000000</td>\n",
              "      <td>1.070375</td>\n",
              "      <td>14.000000</td>\n",
              "      <td>1.000000</td>\n",
              "      <td>12.000000</td>\n",
              "      <td>2.000000</td>\n",
              "    </tr>\n",
              "    <tr>\n",
              "      <th>25%</th>\n",
              "      <td>65448.750000</td>\n",
              "      <td>2.727031</td>\n",
              "      <td>250111.500000</td>\n",
              "      <td>6.000000</td>\n",
              "      <td>37.000000</td>\n",
              "      <td>6.000000</td>\n",
              "    </tr>\n",
              "    <tr>\n",
              "      <th>50%</th>\n",
              "      <td>71517.000000</td>\n",
              "      <td>2.979875</td>\n",
              "      <td>494929.000000</td>\n",
              "      <td>6.000000</td>\n",
              "      <td>42.000000</td>\n",
              "      <td>6.000000</td>\n",
              "    </tr>\n",
              "    <tr>\n",
              "      <th>75%</th>\n",
              "      <td>76847.750000</td>\n",
              "      <td>3.201990</td>\n",
              "      <td>746297.500000</td>\n",
              "      <td>7.000000</td>\n",
              "      <td>46.000000</td>\n",
              "      <td>6.000000</td>\n",
              "    </tr>\n",
              "    <tr>\n",
              "      <th>max</th>\n",
              "      <td>91956.000000</td>\n",
              "      <td>3.831500</td>\n",
              "      <td>999888.000000</td>\n",
              "      <td>7.000000</td>\n",
              "      <td>56.000000</td>\n",
              "      <td>6.000000</td>\n",
              "    </tr>\n",
              "  </tbody>\n",
              "</table>\n",
              "</div>"
            ],
            "text/plain": [
              "             frames   duration_s  ...  num_of_letters  num_of_digits\n",
              "count   9000.000000  9000.000000  ...     9000.000000    9000.000000\n",
              "mean   70670.257222     2.944594  ...       41.452222       5.888889\n",
              "std     8559.040935     0.356627  ...        6.239038       0.355436\n",
              "min    25689.000000     1.070375  ...       12.000000       2.000000\n",
              "25%    65448.750000     2.727031  ...       37.000000       6.000000\n",
              "50%    71517.000000     2.979875  ...       42.000000       6.000000\n",
              "75%    76847.750000     3.201990  ...       46.000000       6.000000\n",
              "max    91956.000000     3.831500  ...       56.000000       6.000000\n",
              "\n",
              "[8 rows x 6 columns]"
            ]
          },
          "metadata": {
            "tags": []
          },
          "execution_count": 263
        }
      ]
    },
    {
      "cell_type": "code",
      "metadata": {
        "id": "D9lHsewj2yEk",
        "colab_type": "code",
        "colab": {
          "base_uri": "https://localhost:8080/",
          "height": 156
        },
        "outputId": "27abf6f1-ce05-4bbf-da4d-4f7e0a77330e"
      },
      "source": [
        "#у нас очень много длинныйх чисел\n",
        "total['num_of_words'].value_counts()"
      ],
      "execution_count": null,
      "outputs": [
        {
          "output_type": "execute_result",
          "data": {
            "text/plain": [
              "7    3750\n",
              "6    3721\n",
              "5    1288\n",
              "4     217\n",
              "3      20\n",
              "2       2\n",
              "1       2\n",
              "Name: num_of_words, dtype: int64"
            ]
          },
          "metadata": {
            "tags": []
          },
          "execution_count": 256
        }
      ]
    },
    {
      "cell_type": "code",
      "metadata": {
        "id": "zzRXWGrfATxH",
        "colab_type": "code",
        "colab": {
          "base_uri": "https://localhost:8080/",
          "height": 265
        },
        "outputId": "33bc8e70-fb01-4f6a-9520-796a8b51eaaa"
      },
      "source": [
        "plt.scatter(total['num_of_words'],total['num_of_letters'],  marker=\">\")\n",
        "plt.show()"
      ],
      "execution_count": null,
      "outputs": [
        {
          "output_type": "display_data",
          "data": {
            "image/png": "[encoded data removed]",
            "text/plain": [
              "<Figure size 432x288 with 1 Axes>"
            ]
          },
          "metadata": {
            "tags": [],
            "needs_background": "light"
          }
        }
      ]
    },
    {
      "cell_type": "code",
      "metadata": {
        "id": "vHxdhMPeBZ7f",
        "colab_type": "code",
        "colab": {
          "base_uri": "https://localhost:8080/",
          "height": 296
        },
        "outputId": "cbc33988-1864-469d-98b3-a009e5a4b0bc"
      },
      "source": [
        "total_fem = total.where(total['gender']== 'female').dropna()\n",
        "total_mel = total.where(total['gender']== 'male').dropna()\n",
        "plt.scatter(total_fem['duration_s'],total_fem['num_of_words'] , s=80,  marker=\".\", color ='red')\n",
        "plt.scatter(total_mel['duration_s'],total_mel['num_of_words'] , s=80,  marker=\"|\", color ='blue')\n",
        "plt.title(\"num_of_words\" + \" vs \"+ \"duration_s\")\n",
        "plt.xlabel(\"duration_s\")\n",
        "plt.ylabel(\"num_of_words\")\n",
        "plt.grid()\n",
        "plt.show()\n"
      ],
      "execution_count": null,
      "outputs": [
        {
          "output_type": "display_data",
          "data": {
            "image/png": "[encoded data removed]",
            "text/plain": [
              "<Figure size 432x288 with 1 Axes>"
            ]
          },
          "metadata": {
            "tags": [],
            "needs_background": "light"
          }
        }
      ]
    },
    {
      "cell_type": "code",
      "metadata": {
        "id": "c-pC678zEWL6",
        "colab_type": "code",
        "colab": {
          "base_uri": "https://localhost:8080/",
          "height": 296
        },
        "outputId": "2178d896-4b4a-4af8-cd1b-ca0b07e139f8"
      },
      "source": [
        "total_fem = total.where(total['gender']== 'female').dropna()\n",
        "total_mel = total.where(total['gender']== 'male').dropna()\n",
        "plt.scatter(total_fem['duration_s'],total_fem['num_of_letters'] , s=80,  marker=\".\", color ='red')\n",
        "plt.scatter(total_mel['duration_s'],total_mel['num_of_letters'] , s=80,  marker=\"|\", color ='blue')\n",
        "plt.title(\"num_of_letters\" + \" vs \"+ \"duration_s\")\n",
        "plt.xlabel(\"duration_s\")\n",
        "plt.ylabel('num_of_letters')\n",
        "plt.grid()\n",
        "plt.show()"
      ],
      "execution_count": null,
      "outputs": [
        {
          "output_type": "display_data",
          "data": {
            "image/png": "[encoded data removed]",
            "text/plain": [
              "<Figure size 432x288 with 1 Axes>"
            ]
          },
          "metadata": {
            "tags": [],
            "needs_background": "light"
          }
        }
      ]
    },
    {
      "cell_type": "code",
      "metadata": {
        "id": "mIxHByLxGQEI",
        "colab_type": "code",
        "colab": {
          "base_uri": "https://localhost:8080/",
          "height": 296
        },
        "outputId": "94b571c1-a48a-41d3-c7be-255265febd7f"
      },
      "source": [
        "total_fem = total.where(total['gender']== 'female').dropna()\n",
        "total_mel = total.where(total['gender']== 'male').dropna()\n",
        "plt.scatter(total_fem['duration_s'],total_fem['number'] , s=80,  marker=\".\", color ='red')\n",
        "plt.scatter(total_mel['duration_s'],total_mel['number'] , s=80,  marker=\"|\", color ='blue')\n",
        "plt.title(\"num_of_letters\" + \" vs \"+ \"duration_s\")\n",
        "plt.xlabel(\"duration_s\")\n",
        "plt.ylabel('num_of_letters')\n",
        "plt.grid()\n",
        "plt.show()"
      ],
      "execution_count": null,
      "outputs": [
        {
          "output_type": "display_data",
          "data": {
            "image/png": "[encoded data removed]",
            "text/plain": [
              "<Figure size 432x288 with 1 Axes>"
            ]
          },
          "metadata": {
            "tags": [],
            "needs_background": "light"
          }
        }
      ]
    },
    {
      "cell_type": "code",
      "metadata": {
        "id": "_ktY0seL4byq",
        "colab_type": "code",
        "colab": {
          "base_uri": "https://localhost:8080/",
          "height": 175
        },
        "outputId": "a7e68c30-841c-48bc-c9ee-c2053337229d"
      },
      "source": [
        "total.where(total['num_of_words']<3).dropna()"
      ],
      "execution_count": null,
      "outputs": [
        {
          "output_type": "execute_result",
          "data": {
            "text/html": [
              "<div>\n",
              "<style scoped>\n",
              "    .dataframe tbody tr th:only-of-type {\n",
              "        vertical-align: middle;\n",
              "    }\n",
              "\n",
              "    .dataframe tbody tr th {\n",
              "        vertical-align: top;\n",
              "    }\n",
              "\n",
              "    .dataframe thead th {\n",
              "        text-align: right;\n",
              "    }\n",
              "</style>\n",
              "<table border=\"1\" class=\"dataframe\">\n",
              "  <thead>\n",
              "    <tr style=\"text-align: right;\">\n",
              "      <th></th>\n",
              "      <th>path</th>\n",
              "      <th>frames</th>\n",
              "      <th>duration_s</th>\n",
              "      <th>gender</th>\n",
              "      <th>number</th>\n",
              "      <th>num_of_words</th>\n",
              "      <th>num_of_letters</th>\n",
              "      <th>num_of_digits</th>\n",
              "      <th>_merge</th>\n",
              "    </tr>\n",
              "  </thead>\n",
              "  <tbody>\n",
              "    <tr>\n",
              "      <th>2968</th>\n",
              "      <td>train/c7d2263e89.wav</td>\n",
              "      <td>29278.0</td>\n",
              "      <td>1.219917</td>\n",
              "      <td>female</td>\n",
              "      <td>61.0</td>\n",
              "      <td>2.0</td>\n",
              "      <td>14.0</td>\n",
              "      <td>2.0</td>\n",
              "      <td>both</td>\n",
              "    </tr>\n",
              "    <tr>\n",
              "      <th>6127</th>\n",
              "      <td>train/ee643401ea.wav</td>\n",
              "      <td>25807.0</td>\n",
              "      <td>1.075292</td>\n",
              "      <td>female</td>\n",
              "      <td>14.0</td>\n",
              "      <td>1.0</td>\n",
              "      <td>12.0</td>\n",
              "      <td>2.0</td>\n",
              "      <td>both</td>\n",
              "    </tr>\n",
              "    <tr>\n",
              "      <th>7331</th>\n",
              "      <td>train/d8fc26da73.wav</td>\n",
              "      <td>29918.0</td>\n",
              "      <td>1.246583</td>\n",
              "      <td>male</td>\n",
              "      <td>670.0</td>\n",
              "      <td>2.0</td>\n",
              "      <td>17.0</td>\n",
              "      <td>3.0</td>\n",
              "      <td>both</td>\n",
              "    </tr>\n",
              "    <tr>\n",
              "      <th>7715</th>\n",
              "      <td>train/1339fd4329.wav</td>\n",
              "      <td>25689.0</td>\n",
              "      <td>1.070375</td>\n",
              "      <td>female</td>\n",
              "      <td>19.0</td>\n",
              "      <td>1.0</td>\n",
              "      <td>12.0</td>\n",
              "      <td>2.0</td>\n",
              "      <td>both</td>\n",
              "    </tr>\n",
              "  </tbody>\n",
              "</table>\n",
              "</div>"
            ],
            "text/plain": [
              "                      path   frames  ...  num_of_digits _merge\n",
              "2968  train/c7d2263e89.wav  29278.0  ...            2.0   both\n",
              "6127  train/ee643401ea.wav  25807.0  ...            2.0   both\n",
              "7331  train/d8fc26da73.wav  29918.0  ...            3.0   both\n",
              "7715  train/1339fd4329.wav  25689.0  ...            2.0   both\n",
              "\n",
              "[4 rows x 9 columns]"
            ]
          },
          "metadata": {
            "tags": []
          },
          "execution_count": 261
        }
      ]
    },
    {
      "cell_type": "code",
      "metadata": {
        "id": "7w3-XZPS4r9h",
        "colab_type": "code",
        "colab": {
          "base_uri": "https://localhost:8080/",
          "height": 265
        },
        "outputId": "12dec8e7-5c0a-41b4-dbae-1365fd64093f"
      },
      "source": [
        "waveform , sample_rate = torchaudio.load(INPUT_DIR+\"/numbers/\" +\"train/ee643401ea.wav\" )\n",
        "draw_waveform(np.abs(waveform))"
      ],
      "execution_count": null,
      "outputs": [
        {
          "output_type": "display_data",
          "data": {
            "image/png": "[encoded data removed]",
            "text/plain": [
              "<Figure size 432x288 with 1 Axes>"
            ]
          },
          "metadata": {
            "tags": [],
            "needs_background": "light"
          }
        }
      ]
    },
    {
      "cell_type": "code",
      "metadata": {
        "id": "VCq3anIx7OLP",
        "colab_type": "code",
        "colab": {
          "base_uri": "https://localhost:8080/",
          "height": 140
        },
        "outputId": "cf0b9a78-c6d3-4fc3-cd56-d706df5202f8"
      },
      "source": [
        "draw_spectrogram(waveform, kind='mfcc', output_file='spectrogram')"
      ],
      "execution_count": null,
      "outputs": [
        {
          "output_type": "display_data",
          "data": {
            "image/png": "[encoded data removed]",
            "text/plain": [
              "<Figure size 432x288 with 1 Axes>"
            ]
          },
          "metadata": {
            "tags": [],
            "needs_background": "light"
          }
        }
      ]
    },
    {
      "cell_type": "code",
      "metadata": {
        "id": "i5dXWXg4-SG8",
        "colab_type": "code",
        "colab": {
          "base_uri": "https://localhost:8080/",
          "height": 34
        },
        "outputId": "1f0eb138-2d37-4223-a1b5-52b0b887398a"
      },
      "source": [
        "np.max(np.abs(waveform)[0].numpy())"
      ],
      "execution_count": null,
      "outputs": [
        {
          "output_type": "execute_result",
          "data": {
            "text/plain": [
              "0.60943604"
            ]
          },
          "metadata": {
            "tags": []
          },
          "execution_count": 280
        }
      ]
    },
    {
      "cell_type": "code",
      "metadata": {
        "id": "cpjar8fo1MqA",
        "colab_type": "code",
        "colab": {}
      },
      "source": [
        "u_set = SoundDataset(train_csv , INPUT_DIR+\"/numbers\" )\n"
      ],
      "execution_count": null,
      "outputs": []
    },
    {
      "cell_type": "code",
      "metadata": {
        "id": "HUyaRsgXH45a",
        "colab_type": "code",
        "colab": {
          "base_uri": "https://localhost:8080/",
          "height": 34
        },
        "outputId": "748efc31-c0a6-4731-99c8-6386e04cf4a4"
      },
      "source": [
        "len(u_set)"
      ],
      "execution_count": null,
      "outputs": [
        {
          "output_type": "execute_result",
          "data": {
            "text/plain": [
              "9000"
            ]
          },
          "metadata": {
            "tags": []
          },
          "execution_count": 307
        }
      ]
    },
    {
      "cell_type": "code",
      "metadata": {
        "id": "YDWwC8b1IEol",
        "colab_type": "code",
        "colab": {}
      },
      "source": [
        "max = []\n",
        "avg = []\n",
        "std = []\n",
        "paths = []\n",
        "for i in range(len(u_set)):\n",
        "  max.append(np.max(np.abs(u_set[i]['waveform'][0].numpy())))\n",
        "  avg.append(np.mean(np.abs(u_set[i]['waveform'][0].numpy())))\n",
        "  std.append(np.std(np.abs(u_set[i]['waveform'][0].numpy())))\n",
        "  paths.append(u_set[i]['path'])"
      ],
      "execution_count": null,
      "outputs": []
    },
    {
      "cell_type": "code",
      "metadata": {
        "id": "x0OsO7KVIsxT",
        "colab_type": "code",
        "colab": {
          "base_uri": "https://localhost:8080/",
          "height": 300
        },
        "outputId": "6ff152c2-168e-4242-d380-164edd92ed96"
      },
      "source": [
        "d_1 = {'max': max, \n",
        "     'avg': avg,\n",
        "     'std': std ,\n",
        "     'path': paths }\n",
        "waveform_stats = pd.DataFrame(data=d_1 )\n",
        "waveform_stats.describe()"
      ],
      "execution_count": null,
      "outputs": [
        {
          "output_type": "execute_result",
          "data": {
            "text/html": [
              "<div>\n",
              "<style scoped>\n",
              "    .dataframe tbody tr th:only-of-type {\n",
              "        vertical-align: middle;\n",
              "    }\n",
              "\n",
              "    .dataframe tbody tr th {\n",
              "        vertical-align: top;\n",
              "    }\n",
              "\n",
              "    .dataframe thead th {\n",
              "        text-align: right;\n",
              "    }\n",
              "</style>\n",
              "<table border=\"1\" class=\"dataframe\">\n",
              "  <thead>\n",
              "    <tr style=\"text-align: right;\">\n",
              "      <th></th>\n",
              "      <th>max</th>\n",
              "      <th>avg</th>\n",
              "      <th>std</th>\n",
              "    </tr>\n",
              "  </thead>\n",
              "  <tbody>\n",
              "    <tr>\n",
              "      <th>count</th>\n",
              "      <td>9000.000000</td>\n",
              "      <td>9000.000000</td>\n",
              "      <td>9000.000000</td>\n",
              "    </tr>\n",
              "    <tr>\n",
              "      <th>mean</th>\n",
              "      <td>0.574073</td>\n",
              "      <td>0.058726</td>\n",
              "      <td>0.074790</td>\n",
              "    </tr>\n",
              "    <tr>\n",
              "      <th>std</th>\n",
              "      <td>0.067090</td>\n",
              "      <td>0.004010</td>\n",
              "      <td>0.005286</td>\n",
              "    </tr>\n",
              "    <tr>\n",
              "      <th>min</th>\n",
              "      <td>0.398804</td>\n",
              "      <td>0.044903</td>\n",
              "      <td>0.060488</td>\n",
              "    </tr>\n",
              "    <tr>\n",
              "      <th>25%</th>\n",
              "      <td>0.520752</td>\n",
              "      <td>0.055961</td>\n",
              "      <td>0.070760</td>\n",
              "    </tr>\n",
              "    <tr>\n",
              "      <th>50%</th>\n",
              "      <td>0.571136</td>\n",
              "      <td>0.058677</td>\n",
              "      <td>0.074942</td>\n",
              "    </tr>\n",
              "    <tr>\n",
              "      <th>75%</th>\n",
              "      <td>0.618324</td>\n",
              "      <td>0.061363</td>\n",
              "      <td>0.078550</td>\n",
              "    </tr>\n",
              "    <tr>\n",
              "      <th>max</th>\n",
              "      <td>0.764709</td>\n",
              "      <td>0.074924</td>\n",
              "      <td>0.093866</td>\n",
              "    </tr>\n",
              "  </tbody>\n",
              "</table>\n",
              "</div>"
            ],
            "text/plain": [
              "               max          avg          std\n",
              "count  9000.000000  9000.000000  9000.000000\n",
              "mean      0.574073     0.058726     0.074790\n",
              "std       0.067090     0.004010     0.005286\n",
              "min       0.398804     0.044903     0.060488\n",
              "25%       0.520752     0.055961     0.070760\n",
              "50%       0.571136     0.058677     0.074942\n",
              "75%       0.618324     0.061363     0.078550\n",
              "max       0.764709     0.074924     0.093866"
            ]
          },
          "metadata": {
            "tags": []
          },
          "execution_count": 322
        }
      ]
    },
    {
      "cell_type": "code",
      "metadata": {
        "id": "i_HtXqN5NfVB",
        "colab_type": "code",
        "colab": {}
      },
      "source": [
        ""
      ],
      "execution_count": null,
      "outputs": []
    },
    {
      "cell_type": "markdown",
      "metadata": {
        "id": "PWYGF8m4LVcR",
        "colab_type": "text"
      },
      "source": [
        "# Мой вклад"
      ]
    },
    {
      "cell_type": "code",
      "metadata": {
        "id": "bHT2TCr1IWSR",
        "colab_type": "code",
        "colab": {}
      },
      "source": [
        ""
      ],
      "execution_count": null,
      "outputs": []
    },
    {
      "cell_type": "markdown",
      "metadata": {
        "id": "GYMDPJtdKebc",
        "colab_type": "text"
      },
      "source": [
        "# Краткое описание моей модели ASR для поставленной задачи"
      ]
    },
    {
      "cell_type": "code",
      "metadata": {
        "id": "kRdOpV6KKlKy",
        "colab_type": "code",
        "colab": {}
      },
      "source": [
        ""
      ],
      "execution_count": null,
      "outputs": []
    }
  ]
}