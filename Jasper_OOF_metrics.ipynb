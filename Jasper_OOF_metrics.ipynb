{
  "nbformat": 4,
  "nbformat_minor": 0,
  "metadata": {
    "colab": {
      "name": "Jasper_OOF_metrics.ipynb",
      "provenance": [],
      "collapsed_sections": [],
      "toc_visible": true,
      "authorship_tag": "ABX9TyPn/qrEjmuzlZI3npxLfAae",
      "include_colab_link": true
    },
    "kernelspec": {
      "name": "python3",
      "display_name": "Python 3"
    }
  },
  "cells": [
    {
      "cell_type": "markdown",
      "metadata": {
        "id": "view-in-github",
        "colab_type": "text"
      },
      "source": [
        "<a href=\"https://colab.research.google.com/github/shonenkov/asr-shad/blob/feature-oof_metrics/Jasper_OOF_metrics.ipynb\" target=\"_parent\"><img src=\"https://colab.research.google.com/assets/colab-badge.svg\" alt=\"Open In Colab\"/></a>"
      ]
    },
    {
      "cell_type": "code",
      "metadata": {
        "id": "PA0tpfsBzMBr",
        "colab_type": "code",
        "colab": {}
      },
      "source": [
        "!git clone https://github.com/shonenkov/asr-shad > /dev/null\n",
        "!pip install -r './asr-shad/requirements.txt' > /dev/null"
      ],
      "execution_count": null,
      "outputs": []
    },
    {
      "cell_type": "code",
      "metadata": {
        "id": "Ga8ncE8UOumj",
        "colab_type": "code",
        "colab": {}
      },
      "source": [
        "import sys\n",
        "sys.path.insert(0, './asr-shad/utils')"
      ],
      "execution_count": 2,
      "outputs": []
    },
    {
      "cell_type": "code",
      "metadata": {
        "id": "YG4rPYVlBCqB",
        "colab_type": "code",
        "colab": {}
      },
      "source": [
        "from google.colab import drive\n",
        "drive.mount('/content/drive')"
      ],
      "execution_count": null,
      "outputs": []
    },
    {
      "cell_type": "code",
      "metadata": {
        "id": "dt2SWOYzBnrm",
        "colab_type": "code",
        "colab": {}
      },
      "source": [
        "import pandas as pd\n",
        "from metrics import mean_wer, mean_ser, levenshtein_distance"
      ],
      "execution_count": 12,
      "outputs": []
    },
    {
      "cell_type": "code",
      "metadata": {
        "id": "c1FXUV-ddW4o",
        "colab_type": "code",
        "colab": {}
      },
      "source": [
        "pred = pd.read_csv('/content/drive/My Drive/Sirius project. Numbers/waveforms/jasper_pred.csv')\n",
        "pred_aug = pd.read_csv('/content/drive/My Drive/Sirius project. Numbers/waveforms/jasper_pred_aug.csv')"
      ],
      "execution_count": 9,
      "outputs": []
    },
    {
      "cell_type": "code",
      "metadata": {
        "id": "fvmv9rDu766S",
        "colab_type": "code",
        "colab": {}
      },
      "source": [
        "corpus = set(word for string in pred.reference for word in string.split())\n",
        "\n",
        "def thousand(number: str) -> str:\n",
        "    if number == 'одна':\n",
        "        return 'тысяча'\n",
        "    elif number in ['две', 'три', 'четыре']:\n",
        "        return 'тысячи'\n",
        "    else:\n",
        "        return 'тысяч'\n",
        "\n",
        "def correct(text: str) -> str:\n",
        "    words = list(text.split())\n",
        "    correct_words = []\n",
        "    for i, word in enumerate(words):\n",
        "        if word in corpus:\n",
        "            correct_words.append(word)        \n",
        "        else:\n",
        "            correction = ''\n",
        "            min_dist = len(word)\n",
        "            for variant in corpus:\n",
        "                if levenshtein_distance(word, variant) < min_dist:\n",
        "                    min_dist = levenshtein_distance(word, variant)\n",
        "                    correction = variant\n",
        "            correct_words.append(correction)\n",
        "                    \n",
        "        if correct_words[-1][:5] == 'тысяч' and i > 0:\n",
        "            correct_words[-1] = thousand(words[i - 1])      \n",
        "        \n",
        "    return ' '.join(correct_words)"
      ],
      "execution_count": 13,
      "outputs": []
    },
    {
      "cell_type": "code",
      "metadata": {
        "id": "R_vDdlhF09Pr",
        "colab_type": "code",
        "colab": {}
      },
      "source": [
        "pred['edited'] = pred['prediction'].apply(correct)\n",
        "pred_aug['edited'] = pred_aug['prediction'].apply(correct)"
      ],
      "execution_count": null,
      "outputs": []
    },
    {
      "cell_type": "code",
      "metadata": {
        "id": "z63ds3eI8avw",
        "colab_type": "code",
        "colab": {}
      },
      "source": [
        "wer_base = mean_wer(pred.reference, pred.prediction)\n",
        "ser_base = mean_ser(pred.reference, pred.prediction)\n",
        "\n",
        "wer_base_correct = mean_wer(pred.reference, pred.edited)\n",
        "ser_base_correct = mean_ser(pred.reference, pred.edited)\n",
        "\n",
        "wer_aug = mean_wer(pred_aug.reference, pred_aug.prediction)\n",
        "ser_aug = mean_ser(pred_aug.reference, pred_aug.prediction)\n",
        "\n",
        "wer_aug_correct = mean_wer(pred_aug.reference, pred_aug.edited)\n",
        "ser_aug_correct = mean_ser(pred_aug.reference, pred_aug.edited)"
      ],
      "execution_count": 19,
      "outputs": []
    },
    {
      "cell_type": "code",
      "metadata": {
        "id": "BHd1LtKy9iZz",
        "colab_type": "code",
        "colab": {
          "base_uri": "https://localhost:8080/",
          "height": 111
        },
        "outputId": "c6cf40f6-95b8-462c-d75b-a06e945a6682"
      },
      "source": [
        "metric_df = pd.DataFrame({'base' : [wer_base, ser_base],\n",
        "                          'with_correction' : [wer_base_correct, ser_base_correct],\n",
        "                          'with_aug': [wer_aug, ser_aug],\n",
        "                          'with_aug_and_corr': [wer_aug_correct, ser_aug_correct],\n",
        "}, index=['wer', 'ser'])\n",
        "metric_df.head()"
      ],
      "execution_count": 22,
      "outputs": [
        {
          "output_type": "execute_result",
          "data": {
            "text/html": [
              "<div>\n",
              "<style scoped>\n",
              "    .dataframe tbody tr th:only-of-type {\n",
              "        vertical-align: middle;\n",
              "    }\n",
              "\n",
              "    .dataframe tbody tr th {\n",
              "        vertical-align: top;\n",
              "    }\n",
              "\n",
              "    .dataframe thead th {\n",
              "        text-align: right;\n",
              "    }\n",
              "</style>\n",
              "<table border=\"1\" class=\"dataframe\">\n",
              "  <thead>\n",
              "    <tr style=\"text-align: right;\">\n",
              "      <th></th>\n",
              "      <th>base</th>\n",
              "      <th>with_correction</th>\n",
              "      <th>with_aug</th>\n",
              "      <th>with_aug_and_corr</th>\n",
              "    </tr>\n",
              "  </thead>\n",
              "  <tbody>\n",
              "    <tr>\n",
              "      <th>wer</th>\n",
              "      <td>0.013097</td>\n",
              "      <td>0.000841</td>\n",
              "      <td>0.000519</td>\n",
              "      <td>0.000519</td>\n",
              "    </tr>\n",
              "    <tr>\n",
              "      <th>ser</th>\n",
              "      <td>0.002226</td>\n",
              "      <td>0.000639</td>\n",
              "      <td>0.000430</td>\n",
              "      <td>0.000445</td>\n",
              "    </tr>\n",
              "  </tbody>\n",
              "</table>\n",
              "</div>"
            ],
            "text/plain": [
              "         base  with_correction  with_aug  with_aug_and_corr\n",
              "wer  0.013097         0.000841  0.000519           0.000519\n",
              "ser  0.002226         0.000639  0.000430           0.000445"
            ]
          },
          "metadata": {
            "tags": []
          },
          "execution_count": 22
        }
      ]
    },
    {
      "cell_type": "markdown",
      "metadata": {
        "id": "3cAnGnBF_wRe",
        "colab_type": "text"
      },
      "source": [
        "*То, что символьная метрика немножко подросла в конце, вполне может быть из-за различия метрик. Коррекция призвана уменьшить WER, поэтому, например, в ситуации, когда два слова склеились, мы исправим их на одно, при этом потеря слова дает вклад единичка в WER и большой вклад в SER*."
      ]
    }
  ]
}